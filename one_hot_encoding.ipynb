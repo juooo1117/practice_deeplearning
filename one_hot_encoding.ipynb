{
 "cells": [
  {
   "cell_type": "code",
   "execution_count": 4,
   "id": "99297685-6199-44c2-b448-24b52369dd24",
   "metadata": {},
   "outputs": [],
   "source": [
    "import tensorflow as tf"
   ]
  },
  {
   "cell_type": "code",
   "execution_count": 5,
   "id": "0f389f3e-477a-494e-b4c6-bbf28251dc41",
   "metadata": {},
   "outputs": [],
   "source": [
    "from tensorflow.keras.preprocessing.text import Tokenizer"
   ]
  },
  {
   "cell_type": "code",
   "execution_count": 10,
   "id": "126115bd-b982-4202-bad6-7782094c2722",
   "metadata": {},
   "outputs": [],
   "source": [
    "str = \"원 핫 인코딩이란 정답인 원소만 1이고 나머지는 모두 0인 배열입니다\""
   ]
  },
  {
   "cell_type": "markdown",
   "id": "3666021d-d31e-4641-b786-3272edd24c43",
   "metadata": {},
   "source": [
    "**1. keras one hot encoding 활용.**"
   ]
  },
  {
   "cell_type": "code",
   "execution_count": 12,
   "id": "1410e9f0-3e9c-4102-9ee2-4a2d4a85f973",
   "metadata": {},
   "outputs": [
    {
     "name": "stdout",
     "output_type": "stream",
     "text": [
      "{'원': 1, '핫': 2, '인코딩이란': 3, '정답인': 4, '원소만': 5, '1이고': 6, '나머지는': 7, '모두': 8, '0인': 9, '배열입니다': 10}\n"
     ]
    }
   ],
   "source": [
    "# tokenizer의 fit_on_texts 메소드에 str 문장 넣기.\n",
    "# 공백을 기준으로 데이터를 분리해서 tokenizing.\n",
    "\n",
    "tokenizer = Tokenizer()\n",
    "tokenizer.fit_on_texts([str])\n",
    "\n",
    "print(tokenizer.word_index)"
   ]
  },
  {
   "cell_type": "code",
   "execution_count": 13,
   "id": "706a91af-eccc-4c5f-99eb-dd5df155a06c",
   "metadata": {},
   "outputs": [
    {
     "name": "stdout",
     "output_type": "stream",
     "text": [
      "[1, 2, 3, 4, 5, 6, 7, 8, 9, 10]\n"
     ]
    }
   ],
   "source": [
    "# tokenizer에는 단어별 index 값들이 저장된 상태.\n",
    "encoded = tokenizer.texts_to_sequences([str])[0]\n",
    "print(encoded)"
   ]
  },
  {
   "cell_type": "code",
   "execution_count": 14,
   "id": "2eb1942e-228b-4ff3-ba23-a607fe09ab0e",
   "metadata": {},
   "outputs": [
    {
     "name": "stdout",
     "output_type": "stream",
     "text": [
      "[[0. 1. 0. 0. 0. 0. 0. 0. 0. 0. 0.]\n",
      " [0. 0. 1. 0. 0. 0. 0. 0. 0. 0. 0.]\n",
      " [0. 0. 0. 1. 0. 0. 0. 0. 0. 0. 0.]\n",
      " [0. 0. 0. 0. 1. 0. 0. 0. 0. 0. 0.]\n",
      " [0. 0. 0. 0. 0. 1. 0. 0. 0. 0. 0.]\n",
      " [0. 0. 0. 0. 0. 0. 1. 0. 0. 0. 0.]\n",
      " [0. 0. 0. 0. 0. 0. 0. 1. 0. 0. 0.]\n",
      " [0. 0. 0. 0. 0. 0. 0. 0. 1. 0. 0.]\n",
      " [0. 0. 0. 0. 0. 0. 0. 0. 0. 1. 0.]\n",
      " [0. 0. 0. 0. 0. 0. 0. 0. 0. 0. 1.]]\n"
     ]
    }
   ],
   "source": [
    "onehot = tf.keras.utils.to_categorical(encoded)\n",
    "print(onehot)"
   ]
  },
  {
   "cell_type": "code",
   "execution_count": 15,
   "id": "03104a67-272e-4d3d-b35a-efb769db9f61",
   "metadata": {},
   "outputs": [
    {
     "name": "stdout",
     "output_type": "stream",
     "text": [
      "[[0. 1. 0. 0. 0. 0. 0. 0. 0. 0. 0. 0. 0. 0. 0. 0. 0. 0. 0. 0.]\n",
      " [0. 0. 1. 0. 0. 0. 0. 0. 0. 0. 0. 0. 0. 0. 0. 0. 0. 0. 0. 0.]\n",
      " [0. 0. 0. 1. 0. 0. 0. 0. 0. 0. 0. 0. 0. 0. 0. 0. 0. 0. 0. 0.]\n",
      " [0. 0. 0. 0. 1. 0. 0. 0. 0. 0. 0. 0. 0. 0. 0. 0. 0. 0. 0. 0.]\n",
      " [0. 0. 0. 0. 0. 1. 0. 0. 0. 0. 0. 0. 0. 0. 0. 0. 0. 0. 0. 0.]\n",
      " [0. 0. 0. 0. 0. 0. 1. 0. 0. 0. 0. 0. 0. 0. 0. 0. 0. 0. 0. 0.]\n",
      " [0. 0. 0. 0. 0. 0. 0. 1. 0. 0. 0. 0. 0. 0. 0. 0. 0. 0. 0. 0.]\n",
      " [0. 0. 0. 0. 0. 0. 0. 0. 1. 0. 0. 0. 0. 0. 0. 0. 0. 0. 0. 0.]\n",
      " [0. 0. 0. 0. 0. 0. 0. 0. 0. 1. 0. 0. 0. 0. 0. 0. 0. 0. 0. 0.]\n",
      " [0. 0. 0. 0. 0. 0. 0. 0. 0. 0. 1. 0. 0. 0. 0. 0. 0. 0. 0. 0.]]\n"
     ]
    }
   ],
   "source": [
    "# 겹칠 가능성을 대비하여, 인코딩 범위를 조절 가능\n",
    "onehot_20 = tf.keras.utils.to_categorical(encoded, 20)\n",
    "print(onehot_20)"
   ]
  },
  {
   "cell_type": "markdown",
   "id": "0ab25af7-7c5f-4956-adf6-2797ca8f9064",
   "metadata": {},
   "source": [
    "**2. 단어를 기준으로 one-hot encoding code 구현**"
   ]
  },
  {
   "cell_type": "code",
   "execution_count": 16,
   "id": "d253e821-400f-417f-b284-1a38fa347558",
   "metadata": {},
   "outputs": [],
   "source": [
    "import numpy as np"
   ]
  },
  {
   "cell_type": "code",
   "execution_count": 50,
   "id": "b44960e4-da54-4914-9c6a-0a092d8d48ad",
   "metadata": {},
   "outputs": [],
   "source": [
    "str = ['새로운 코드를 짜서 제대로 구현되는지 확인해보려고 합니다.','싸이의 예술이야를 듣고 감동 받았어요.']"
   ]
  },
  {
   "cell_type": "code",
   "execution_count": 51,
   "id": "44b2742c-fbc5-4e57-985b-8b2abce9192b",
   "metadata": {},
   "outputs": [],
   "source": [
    "# str을 잘라서 token별 index를 담을 공간.\n",
    "token_index = {}"
   ]
  },
  {
   "cell_type": "code",
   "execution_count": 54,
   "id": "5956178a-6cbe-4eaa-8613-65df3cf762ce",
   "metadata": {},
   "outputs": [
    {
     "name": "stdout",
     "output_type": "stream",
     "text": [
      "새로운\n",
      "코드를\n",
      "짜서\n",
      "제대로\n",
      "구현되는지\n",
      "확인해보려고\n",
      "합니다.\n",
      "싸이의\n",
      "예술이야를\n",
      "듣고\n",
      "감동\n",
      "받았어요.\n",
      "{'새로운': 1, '코드를': 2, '짜서': 3, '제대로': 4, '구현되는지': 5, '확인해보려고': 6, '합니다.': 7, '싸이의': 8, '예술이야를': 9, '듣고': 10, '감동': 11, '받았어요.': 12}\n"
     ]
    }
   ],
   "source": [
    "for sample in str:\n",
    "    for word in sample.split():   # 공백기준으로 문자열 str의 token 나누기.\n",
    "        print(word)\n",
    "        if word not in token_index:   # 단어마다 고유한 index 할당.\n",
    "            token_index[word] = len(token_index) + 1   # index는 0부터 사용.\n",
    "            \n",
    "print(token_index)"
   ]
  },
  {
   "cell_type": "code",
   "execution_count": 55,
   "id": "e6f006a2-23f3-4eb9-ad7b-fefd66b33d19",
   "metadata": {},
   "outputs": [
    {
     "name": "stdout",
     "output_type": "stream",
     "text": [
      "dict_values([1, 2, 3, 4, 5, 6, 7, 8, 9, 10, 11, 12])\n"
     ]
    }
   ],
   "source": [
    "print(token_index.values())"
   ]
  },
  {
   "cell_type": "code",
   "execution_count": 56,
   "id": "6faf66e4-19a6-40f8-9f47-aa8491cf725a",
   "metadata": {
    "scrolled": true
   },
   "outputs": [
    {
     "name": "stdout",
     "output_type": "stream",
     "text": [
      "[[[0. 0. 0. 0. 0. 0. 0. 0. 0. 0. 0. 0. 0.]\n",
      "  [0. 0. 0. 0. 0. 0. 0. 0. 0. 0. 0. 0. 0.]\n",
      "  [0. 0. 0. 0. 0. 0. 0. 0. 0. 0. 0. 0. 0.]\n",
      "  [0. 0. 0. 0. 0. 0. 0. 0. 0. 0. 0. 0. 0.]\n",
      "  [0. 0. 0. 0. 0. 0. 0. 0. 0. 0. 0. 0. 0.]\n",
      "  [0. 0. 0. 0. 0. 0. 0. 0. 0. 0. 0. 0. 0.]\n",
      "  [0. 0. 0. 0. 0. 0. 0. 0. 0. 0. 0. 0. 0.]\n",
      "  [0. 0. 0. 0. 0. 0. 0. 0. 0. 0. 0. 0. 0.]\n",
      "  [0. 0. 0. 0. 0. 0. 0. 0. 0. 0. 0. 0. 0.]\n",
      "  [0. 0. 0. 0. 0. 0. 0. 0. 0. 0. 0. 0. 0.]]\n",
      "\n",
      " [[0. 0. 0. 0. 0. 0. 0. 0. 0. 0. 0. 0. 0.]\n",
      "  [0. 0. 0. 0. 0. 0. 0. 0. 0. 0. 0. 0. 0.]\n",
      "  [0. 0. 0. 0. 0. 0. 0. 0. 0. 0. 0. 0. 0.]\n",
      "  [0. 0. 0. 0. 0. 0. 0. 0. 0. 0. 0. 0. 0.]\n",
      "  [0. 0. 0. 0. 0. 0. 0. 0. 0. 0. 0. 0. 0.]\n",
      "  [0. 0. 0. 0. 0. 0. 0. 0. 0. 0. 0. 0. 0.]\n",
      "  [0. 0. 0. 0. 0. 0. 0. 0. 0. 0. 0. 0. 0.]\n",
      "  [0. 0. 0. 0. 0. 0. 0. 0. 0. 0. 0. 0. 0.]\n",
      "  [0. 0. 0. 0. 0. 0. 0. 0. 0. 0. 0. 0. 0.]\n",
      "  [0. 0. 0. 0. 0. 0. 0. 0. 0. 0. 0. 0. 0.]]]\n"
     ]
    }
   ],
   "source": [
    "# zero shot 적용하기\n",
    "max_length = 10    # 한 sentence에는 10개의 word(token)만 허용.\n",
    "results = np.zeros((len(str), max_length, max(token_index.values())+1))\n",
    "\n",
    "print(results)"
   ]
  },
  {
   "cell_type": "code",
   "execution_count": 59,
   "id": "cbcb4417-4a31-42e1-9ec9-e50213a2d54e",
   "metadata": {},
   "outputs": [
    {
     "name": "stdout",
     "output_type": "stream",
     "text": [
      "[[0. 0. 0. 0. 0. 0. 0. 0. 0. 0. 0. 0. 0.]\n",
      " [0. 0. 0. 0. 0. 0. 0. 0. 0. 0. 0. 0. 0.]\n",
      " [0. 0. 0. 0. 0. 0. 0. 0. 0. 0. 0. 0. 0.]]\n"
     ]
    }
   ],
   "source": [
    "print(results[0][0:3])"
   ]
  },
  {
   "cell_type": "code",
   "execution_count": 60,
   "id": "a1294b47-d9a6-4c23-be37-520adb3ec414",
   "metadata": {},
   "outputs": [
    {
     "name": "stdout",
     "output_type": "stream",
     "text": [
      "[[[0. 1. 0. 0. 0. 0. 0. 0. 0. 0. 0. 0. 0.]\n",
      "  [0. 0. 1. 0. 0. 0. 0. 0. 0. 0. 0. 0. 0.]\n",
      "  [0. 0. 0. 1. 0. 0. 0. 0. 0. 0. 0. 0. 0.]\n",
      "  [0. 0. 0. 0. 1. 0. 0. 0. 0. 0. 0. 0. 0.]\n",
      "  [0. 0. 0. 0. 0. 1. 0. 0. 0. 0. 0. 0. 0.]\n",
      "  [0. 0. 0. 0. 0. 0. 1. 0. 0. 0. 0. 0. 0.]\n",
      "  [0. 0. 0. 0. 0. 0. 0. 1. 0. 0. 0. 0. 0.]\n",
      "  [0. 0. 0. 0. 0. 0. 0. 0. 0. 0. 0. 0. 0.]\n",
      "  [0. 0. 0. 0. 0. 0. 0. 0. 0. 0. 0. 0. 0.]\n",
      "  [0. 0. 0. 0. 0. 0. 0. 0. 0. 0. 0. 0. 0.]]\n",
      "\n",
      " [[0. 0. 0. 0. 0. 0. 0. 0. 1. 0. 0. 0. 0.]\n",
      "  [0. 0. 0. 0. 0. 0. 0. 0. 0. 1. 0. 0. 0.]\n",
      "  [0. 0. 0. 0. 0. 0. 0. 0. 0. 0. 1. 0. 0.]\n",
      "  [0. 0. 0. 0. 0. 0. 0. 0. 0. 0. 0. 1. 0.]\n",
      "  [0. 0. 0. 0. 0. 0. 0. 0. 0. 0. 0. 0. 1.]\n",
      "  [0. 0. 0. 0. 0. 0. 0. 0. 0. 0. 0. 0. 0.]\n",
      "  [0. 0. 0. 0. 0. 0. 0. 0. 0. 0. 0. 0. 0.]\n",
      "  [0. 0. 0. 0. 0. 0. 0. 0. 0. 0. 0. 0. 0.]\n",
      "  [0. 0. 0. 0. 0. 0. 0. 0. 0. 0. 0. 0. 0.]\n",
      "  [0. 0. 0. 0. 0. 0. 0. 0. 0. 0. 0. 0. 0.]]]\n"
     ]
    }
   ],
   "source": [
    "# 리스트 안에서 enumerate를 하면 튜플로 인덱스 0부터 묶이고, 딕셔너리 안에서 enumerate를 하면 인덱스와 값이 key, value로 들어간다.\n",
    "for i, sample in enumerate(str):\n",
    "    for j, word in list(enumerate(sample.split()))[:max_length]:\n",
    "        index = token_index.get(word)  # word 부분이 token_index의 딕셔너리의 key로 들어가서 index에 value인 숫자가 들어간다.\n",
    "        results[i, j, index] = 1.      # i는 문장의 인덱스, j는 문장안에서 단어의 인덱스, index는 toekn_index의 value값\n",
    "\n",
    "print(results)"
   ]
  },
  {
   "cell_type": "code",
   "execution_count": 61,
   "id": "9e3b7242-60dc-4956-bf01-92633b487f43",
   "metadata": {},
   "outputs": [
    {
     "name": "stdout",
     "output_type": "stream",
     "text": [
      "[[0. 1. 0. 0. 0. 0. 0. 0. 0. 0. 0. 0. 0.]\n",
      " [0. 0. 1. 0. 0. 0. 0. 0. 0. 0. 0. 0. 0.]\n",
      " [0. 0. 0. 1. 0. 0. 0. 0. 0. 0. 0. 0. 0.]]\n"
     ]
    }
   ],
   "source": [
    "print(results[0][0:3])"
   ]
  }
 ],
 "metadata": {
  "kernelspec": {
   "display_name": "Python 3 (ipykernel)",
   "language": "python",
   "name": "python3"
  },
  "language_info": {
   "codemirror_mode": {
    "name": "ipython",
    "version": 3
   },
   "file_extension": ".py",
   "mimetype": "text/x-python",
   "name": "python",
   "nbconvert_exporter": "python",
   "pygments_lexer": "ipython3",
   "version": "3.11.4"
  }
 },
 "nbformat": 4,
 "nbformat_minor": 5
}
