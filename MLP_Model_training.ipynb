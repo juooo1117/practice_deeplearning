{
 "cells": [
  {
   "cell_type": "markdown",
   "metadata": {},
   "source": [
    "### Model, Loss Function, Optimizer Gengerate"
   ]
  },
  {
   "cell_type": "code",
   "execution_count": 69,
   "metadata": {},
   "outputs": [],
   "source": [
    "# 모델을 device로 옮긴다. (모델을 이용한 계산을 GPU에서 할지 CPU에서 할지)\n",
    "\n",
    "model = MNistModel()\n",
    "model= model.to(device)\n",
    "\n",
    "# loss function\n",
    "# 다중분류문제: crossentropy, 이진분류문제: binary crossentropy => log loss\n",
    "# 다중분류: label이 여러개, 이진분류: yes/no 분류\n",
    "loss_fn = nn.CrossEntropyLoss()  # 객체, nn.functional.cross_entropy() 함수\n",
    "\n",
    "# optimizer => model parameter optimize => gradient descent 구현!\n",
    "optimizer = torch.optim.Adam(model.parameters(), lr=LR)"
   ]
  },
  {
   "cell_type": "code",
   "execution_count": 62,
   "metadata": {},
   "outputs": [
    {
     "data": {
      "text/plain": [
       "Parameter containing:\n",
       "tensor([[-0.0103, -0.0094, -0.0184,  ...,  0.0013, -0.0138, -0.0034],\n",
       "        [ 0.0300, -0.0041, -0.0326,  ..., -0.0059,  0.0110, -0.0056],\n",
       "        [-0.0149,  0.0201, -0.0086,  ..., -0.0149,  0.0162,  0.0302],\n",
       "        ...,\n",
       "        [-0.0153, -0.0111, -0.0132,  ...,  0.0314, -0.0040, -0.0105],\n",
       "        [-0.0133, -0.0163,  0.0198,  ..., -0.0245, -0.0237,  0.0320],\n",
       "        [ 0.0027,  0.0109, -0.0129,  ...,  0.0061, -0.0087,  0.0239]],\n",
       "       requires_grad=True)"
      ]
     },
     "execution_count": 62,
     "metadata": {},
     "output_type": "execute_result"
    }
   ],
   "source": [
    "## model.parameters() : generator\n",
    "a = next(model.parameters())\n",
    "a.shape\n",
    "a"
   ]
  },
  {
   "cell_type": "code",
   "execution_count": 63,
   "metadata": {},
   "outputs": [
    {
     "data": {
      "text/plain": [
       "torch.Size([128, 784])"
      ]
     },
     "execution_count": 63,
     "metadata": {},
     "output_type": "execute_result"
    }
   ],
   "source": [
    "b = next(model.parameters())\n",
    "b.shape"
   ]
  },
  {
   "cell_type": "markdown",
   "metadata": {},
   "source": [
    "### Training & Validation"
   ]
  },
  {
   "cell_type": "code",
   "execution_count": 72,
   "metadata": {},
   "outputs": [
    {
     "name": "stdout",
     "output_type": "stream",
     "text": [
      "[ 1/ 20] Train loss: 0.15673808527425823, Val loss: 0.13707668511196971, Val accuracy: 0.9594\n",
      "[ 2/ 20] Train loss: 0.12368688659153433, Val loss: 0.1200123407645151, Val accuracy: 0.9638\n",
      "[ 3/ 20] Train loss: 0.09907723832716289, Val loss: 0.1016265586251393, Val accuracy: 0.9692\n",
      "[ 4/ 20] Train loss: 0.08406523731338163, Val loss: 0.09337815075414255, Val accuracy: 0.9722\n",
      "[ 5/ 20] Train loss: 0.0708590547960156, Val loss: 0.08794363155029714, Val accuracy: 0.9721\n",
      "[ 6/ 20] Train loss: 0.06145475221336143, Val loss: 0.08739684308529831, Val accuracy: 0.9742\n",
      "[ 7/ 20] Train loss: 0.05151597883265752, Val loss: 0.08186858113040216, Val accuracy: 0.9737\n",
      "[ 8/ 20] Train loss: 0.04450992000504182, Val loss: 0.0765674429727369, Val accuracy: 0.9764\n",
      "[ 9/ 20] Train loss: 0.037007956387491055, Val loss: 0.07853959150452283, Val accuracy: 0.9754\n",
      "[ 10/ 20] Train loss: 0.03354897999411656, Val loss: 0.07498705068137497, Val accuracy: 0.9769\n",
      "[ 11/ 20] Train loss: 0.027170153485977244, Val loss: 0.07577398712965078, Val accuracy: 0.9766\n",
      "[ 12/ 20] Train loss: 0.02403866383048077, Val loss: 0.07938839070920949, Val accuracy: 0.976\n",
      "[ 13/ 20] Train loss: 0.022668009493539795, Val loss: 0.08315537409725948, Val accuracy: 0.9749\n",
      "[ 14/ 20] Train loss: 0.019120159706212263, Val loss: 0.07807584245383623, Val accuracy: 0.9773\n",
      "[ 15/ 20] Train loss: 0.01486727701496078, Val loss: 0.07992500304444547, Val accuracy: 0.9771\n",
      "[ 16/ 20] Train loss: 0.013296140658342812, Val loss: 0.08393871187872719, Val accuracy: 0.9751\n",
      "[ 17/ 20] Train loss: 0.0114410835916264, Val loss: 0.07846074863227841, Val accuracy: 0.9784\n",
      "[ 18/ 20] Train loss: 0.010790569993317064, Val loss: 0.08083156196462368, Val accuracy: 0.9778\n",
      "[ 19/ 20] Train loss: 0.009618895310952336, Val loss: 0.08179666427822667, Val accuracy: 0.9773\n",
      "[ 20/ 20] Train loss: 0.008138020121906366, Val loss: 0.08655415121866099, Val accuracy: 0.9781\n",
      "training time: 30.299926042556763초\n"
     ]
    }
   ],
   "source": [
    "import time  # 학습시간체크\n",
    "\n",
    "# 학습 => training + validation(1epoch 학습한 모델의 성능 검증)\n",
    "\n",
    "# epoch별 학습 결과를 저장할 list\n",
    "train_loss_list = []    # train set으로 검증했을 때 loss\n",
    "val_loss_list = []      # test set으로 검증했을 때 loss\n",
    "val_accuracy_list = []  # test set으로 검증했을 때 accuracy\n",
    "\n",
    "# train\n",
    "start = time.time()\n",
    "for epoch in range(N_EPOCH):\n",
    "    \n",
    "    model.train()       # model을 train mode로 변경\n",
    "    train_loss = 0.0   # 현재 epoch의 학습결과 loss를 저장할 변수\n",
    "    \n",
    "    # batch 단위로 training\n",
    "    for X_train, y_train in train_loader:   # batch 단위로 (input, output) 묶어서 tuple로 반환!\n",
    "        # x,y를 device로 옮긴다. (model,x,y는 같은 device 상에 있어야함!)\n",
    "        X_train, y_train = X_train.to(device), y_train.to(device)\n",
    "        \n",
    "        # inference\n",
    "        pred = model(X_train)\n",
    "\n",
    "        # loss calculation\n",
    "        loss = loss_fn(pred, y_train)\n",
    "\n",
    "        # parameters update(optimize)\n",
    "        optimizer.zero_grad()  # parameters' gradient value initialize\n",
    "        loss.backward()        # gradient value calculate (계산결과: parameter.grad 속성에 저장)\n",
    "        optimizer.step()       # parameters update (parameters : learning rate * gradient)\n",
    "\n",
    "        # 현재 batch's loss value를 train_loss에 누적!\n",
    "        train_loss += loss.item()   # tensor -> 파이썬값\n",
    "        \n",
    "    # 1epoch training finish\n",
    "    ## epoch의 평균 loss를 계산해서 list에 저장 (train_loss: step별 loss를 누적해 둔 공간)\n",
    "    train_loss_list.append(train_loss / len(train_loader))   # len(train_loader) : step수\n",
    "\n",
    "    ## validation\n",
    "    model.eval()   # model을 validation mode로 변경\n",
    "    \n",
    "    # 현재 epoch에 대한 validation result(loss, accuracy)을 저장할 variable\n",
    "    val_loss = 0.0\n",
    "    val_acc = 0.0\n",
    "    \n",
    "    # 모델 추정을 위한 연산 - forward propagation\n",
    "    with torch.no_grad():   # 검증, 평가, 서비스 -> gradient calculation 필요없음(도함수 계산 필요x)\n",
    "        \n",
    "        # batch 단위로 validation 돌리기\n",
    "        for X_val, y_val in test_loader:\n",
    "            X_val, y_val = X_val.to(device), y_val.to(device)      # device로 옮기기\n",
    "            pred_val = model(X_val)                                # inference\n",
    "            val_loss = val_loss + loss_fn(pred_val, y_val).item()  # loss calculation -> val_loss에 누적시킴\n",
    "            \n",
    "            # accuracy calculation : 맞은것개수 / 전체개수\n",
    "            val_acc = val_acc + torch.sum(pred_val.argmax(axis=-1) == y_val).item()    # torch라서 tensor로 출력되니까, item()으로뺴줌!\n",
    "        \n",
    "        # test set 전체에 대한 validation success! => 현재 epoch에 대한 validation finish!\n",
    "        # val_loss, val_acc 값이 누적되어 list에 합계로 저장되어 있는 상태! \n",
    "        val_loss_list.append(val_loss / len(test_loader))             # val_loss: batch 수(=len(test_loader))로 나눠줘야 함\n",
    "        val_accuracy_list.append(val_acc / len(test_loader.dataset))  # val_acc : 전체 data 수(=len(test_loader.dataset))으로 나눠줘야 함\n",
    "    \n",
    "    # 현재 epoch train result print\n",
    "    print(f'[{epoch+1: 2d}/{N_EPOCH: 2d}] Train loss: {train_loss_list[-1]}, Val loss: {val_loss_list[-1]}, Val accuracy: {val_accuracy_list[-1]}')\n",
    "    \n",
    "\n",
    "end = time.time()\n",
    "print(f'training time: {end-start}초')"
   ]
  },
  {
   "cell_type": "code",
   "execution_count": 64,
   "metadata": {},
   "outputs": [
    {
     "data": {
      "text/plain": [
       "10000"
      ]
     },
     "execution_count": 64,
     "metadata": {},
     "output_type": "execute_result"
    }
   ],
   "source": [
    "len(test_loader.dataset)"
   ]
  },
  {
   "cell_type": "code",
   "execution_count": 65,
   "metadata": {},
   "outputs": [
    {
     "data": {
      "text/plain": [
       "40"
      ]
     },
     "execution_count": 65,
     "metadata": {},
     "output_type": "execute_result"
    }
   ],
   "source": [
    "len(test_loader)"
   ]
  },
  {
   "cell_type": "markdown",
   "metadata": {},
   "source": [
    "### 학습 로그 시각화"
   ]
  },
  {
   "cell_type": "code",
   "execution_count": 75,
   "metadata": {},
   "outputs": [
    {
     "data": {
      "image/png": "[encoded data removed]",
      "text/plain": [
       "<Figure size 1000x500 with 2 Axes>"
      ]
     },
     "metadata": {},
     "output_type": "display_data"
    }
   ],
   "source": [
    "# epoch별 loss, accuracy의 변화흐름을 visualization\n",
    "plt.figure(figsize=(10,5))\n",
    "\n",
    "plt.subplot(1,2,1)\n",
    "plt.plot(range(N_EPOCH), train_loss_list, label='train')\n",
    "plt.plot(range(N_EPOCH), val_loss_list, label='Validation')\n",
    "plt.title('Loss')\n",
    "plt.legend()\n",
    "\n",
    "plt.subplot(1,2,2)\n",
    "plt.plot(range(N_EPOCH), val_accuracy_list)\n",
    "plt.title('Validation accuracy')\n",
    "\n",
    "plt.tight_layout()\n",
    "plt.show()"
   ]
  },
  {
   "cell_type": "markdown",
   "metadata": {},
   "source": [
    "## Model SAVE&LOAD"
   ]
  },
  {
   "cell_type": "code",
   "execution_count": 79,
   "metadata": {},
   "outputs": [
    {
     "name": "stdout",
     "output_type": "stream",
     "text": [
      "models/mnist/mnist_mlp.pth\n"
     ]
    }
   ],
   "source": [
    "save_path = os.path.join(MODEL_SAVE_PATH, 'mnist')\n",
    "os.makedirs(save_path, exist_ok=True)\n",
    "\n",
    "save_file_path = os.path.join(save_path, 'mnist_mlp.pth')\n",
    "print(save_file_path)"
   ]
  },
  {
   "cell_type": "code",
   "execution_count": 81,
   "metadata": {},
   "outputs": [],
   "source": [
    "# model save! : torch.save(저장할 모델, 저장할 경로)\n",
    "torch.save(model, save_file_path)"
   ]
  },
  {
   "cell_type": "code",
   "execution_count": 82,
   "metadata": {},
   "outputs": [
    {
     "data": {
      "text/plain": [
       "MNistModel(\n",
       "  (lr1): Linear(in_features=784, out_features=128, bias=True)\n",
       "  (lr2): Linear(in_features=128, out_features=64, bias=True)\n",
       "  (lr3): Linear(in_features=64, out_features=10, bias=True)\n",
       "  (relu): ReLU()\n",
       ")"
      ]
     },
     "execution_count": 82,
     "metadata": {},
     "output_type": "execute_result"
    }
   ],
   "source": [
    "# model 불러오기\n",
    "load_model = torch.load(save_file_path)\n",
    "load_model"
   ]
  },
  {
   "cell_type": "code",
   "execution_count": 83,
   "metadata": {},
   "outputs": [
    {
     "data": {
      "text/plain": [
       "==========================================================================================\n",
       "Layer (type:depth-idx)                   Output Shape              Param #\n",
       "==========================================================================================\n",
       "MNistModel                               [256, 10]                 --\n",
       "├─Linear: 1-1                            [256, 128]                100,480\n",
       "├─ReLU: 1-2                              [256, 128]                --\n",
       "├─Linear: 1-3                            [256, 64]                 8,256\n",
       "├─ReLU: 1-4                              [256, 64]                 --\n",
       "├─Linear: 1-5                            [256, 10]                 650\n",
       "==========================================================================================\n",
       "Total params: 109,386\n",
       "Trainable params: 109,386\n",
       "Non-trainable params: 0\n",
       "Total mult-adds (Units.MEGABYTES): 28.00\n",
       "==========================================================================================\n",
       "Input size (MB): 0.80\n",
       "Forward/backward pass size (MB): 0.41\n",
       "Params size (MB): 0.44\n",
       "Estimated Total Size (MB): 1.65\n",
       "=========================================================================================="
      ]
     },
     "execution_count": 83,
     "metadata": {},
     "output_type": "execute_result"
    }
   ],
   "source": [
    "from torchinfo import summary\n",
    "summary(load_model, (BATCH_SIZE, 1, 28, 28))"
   ]
  },
  {
   "cell_type": "markdown",
   "metadata": {},
   "source": [
    "## Model Evaluate"
   ]
  },
  {
   "cell_type": "code",
   "execution_count": 84,
   "metadata": {},
   "outputs": [
    {
     "name": "stdout",
     "output_type": "stream",
     "text": [
      "Test Loss: 0.08655415121866099, Test Accuracy: 0.9781\n"
     ]
    }
   ],
   "source": [
    "# device로 옮기기\n",
    "load_model = load_model.to(device)\n",
    "\n",
    "# 평가모드로 변환\n",
    "load_model.eval()\n",
    "\n",
    "test_loss, test_acc = 0.0, 0.0\n",
    "with torch.no_grad():\n",
    "    \n",
    "    # batch 단위로 계산하는 것\n",
    "    for X,y in test_loader:\n",
    "        # device 옮기기\n",
    "        X, y = X.to(device), y.to(device)\n",
    "        # inference\n",
    "        pred = load_model(X)\n",
    "        # test - loss, accuracy\n",
    "        test_loss += loss_fn(pred, y).item()   \n",
    "        test_acc += torch.sum(pred.argmax(axis=-1) == y).item()\n",
    "    \n",
    "    test_loss /= len(test_loader)          # batch 수로 나누기\n",
    "    test_acc /= len(test_loader.dataset)   # 총 데이터 수로 나누기\n",
    "\n",
    "print(f'Test Loss: {test_loss}, Test Accuracy: {test_acc}')"
   ]
  },
  {
   "cell_type": "markdown",
   "metadata": {
    "slideshow": {
     "slide_type": "slide"
    }
   },
   "source": [
    "## New Data Inference"
   ]
  },
  {
   "cell_type": "code",
   "execution_count": 85,
   "metadata": {},
   "outputs": [],
   "source": [
    "from glob import glob\n",
    "import cv2"
   ]
  },
  {
   "cell_type": "code",
   "execution_count": 103,
   "metadata": {},
   "outputs": [
    {
     "data": {
      "text/plain": [
       "['/Users/juhyeon/python-workspace/deeplearing_pytorch/num/three.png',\n",
       " '/Users/juhyeon/python-workspace/deeplearing_pytorch/num/eight2.png',\n",
       " '/Users/juhyeon/python-workspace/deeplearing_pytorch/num/three2.png',\n",
       " '/Users/juhyeon/python-workspace/deeplearing_pytorch/num/two.png',\n",
       " '/Users/juhyeon/python-workspace/deeplearing_pytorch/num/four.png',\n",
       " '/Users/juhyeon/python-workspace/deeplearing_pytorch/num/eight.png',\n",
       " '/Users/juhyeon/python-workspace/deeplearing_pytorch/num/five.png',\n",
       " '/Users/juhyeon/python-workspace/deeplearing_pytorch/num/one.png',\n",
       " '/Users/juhyeon/python-workspace/deeplearing_pytorch/num/seven.png',\n",
       " '/Users/juhyeon/python-workspace/deeplearing_pytorch/num/seven2.png']"
      ]
     },
     "execution_count": 103,
     "metadata": {},
     "output_type": "execute_result"
    }
   ],
   "source": [
    "img_file_list = glob('/Users/juhyeon/python-workspace/deeplearing_pytorch/num/*.png')   # 확장자가 png인 모든 파일의 경로를 만들어달라 (*.* 모든 파일 읽어오기)\n",
    "img_file_list"
   ]
  },
  {
   "cell_type": "code",
   "execution_count": 104,
   "metadata": {},
   "outputs": [
    {
     "name": "stdout",
     "output_type": "stream",
     "text": [
      "개수:  10\n"
     ]
    }
   ],
   "source": [
    "file_cnt = len(img_file_list)\n",
    "print('개수: ', file_cnt)\n",
    "\n",
    "# 값이 모두 0인 tensor를 만들어줌 - 분류할 이미지를 저장할 변수\n",
    "input_tensor = torch.zeros((file_cnt, 28, 28))\n",
    "\n",
    "for i in range(file_cnt):\n",
    "    # image read \n",
    "    test_img = cv2.imread(img_file_list[i], cv2.IMREAD_GRAYSCALE)\n",
    "    # 28*28로 resizing\n",
    "    test_img = cv2.resize(test_img, (28,28))\n",
    "    # ndarray => torch.Tensor + Normalization(0~1) => input tensor에 image를 계속 추가하는 것!\n",
    "    input_tensor[i] = transforms.ToTensor()(test_img)"
   ]
  },
  {
   "cell_type": "code",
   "execution_count": 105,
   "metadata": {},
   "outputs": [
    {
     "name": "stdout",
     "output_type": "stream",
     "text": [
      "<class 'torch.Tensor'>\n",
      "torch.Size([10, 28, 28])\n",
      "tensor(0.) tensor(1.)\n"
     ]
    }
   ],
   "source": [
    "print(type(input_tensor))\n",
    "print(input_tensor.shape)\n",
    "print(input_tensor.min(), input_tensor.max())   # 0~1 사이로 만들어줌"
   ]
  },
  {
   "cell_type": "code",
   "execution_count": 106,
   "metadata": {},
   "outputs": [
    {
     "name": "stdout",
     "output_type": "stream",
     "text": [
      "torch.Size([10, 10]) torch.Size([10, 10])\n"
     ]
    }
   ],
   "source": [
    "# inference\n",
    "load_model.to(device)\n",
    "load_model.eval()\n",
    "\n",
    "input_tensor = input_tensor.to(device)\n",
    "pred_new = load_model(input_tensor)  # model이 예측한 값\n",
    "\n",
    "# model이 예측한 값을 확률값으로 변환해 주어야함! - softmax function 이용!\n",
    "## Softmax: 입력받은 값을 출력으로 0~1사이의 값으로 모두 정규화하며 출력 값들의 총합은 항상 1이 되는 특성을 가진 함수\n",
    "pred_proba = nn.Softmax(dim=-1)(pred_new)\n",
    "\n",
    "print(pred_new.shape, pred_proba.shape)"
   ]
  },
  {
   "cell_type": "code",
   "execution_count": 107,
   "metadata": {},
   "outputs": [
    {
     "data": {
      "text/plain": [
       "tensor([1.0000, 1.0000, 1.0000, 1.0000, 1.0000, 1.0000, 1.0000, 1.0000, 1.0000,\n",
       "        1.0000], grad_fn=<SumBackward1>)"
      ]
     },
     "execution_count": 107,
     "metadata": {},
     "output_type": "execute_result"
    }
   ],
   "source": [
    "# 각 image의 확률값을 다 더하면 1인 것 확인! (총 10장의 image)\n",
    "pred_proba.sum(axis=-1)"
   ]
  },
  {
   "cell_type": "code",
   "execution_count": 108,
   "metadata": {},
   "outputs": [
    {
     "data": {
      "text/plain": [
       "tensor([3, 5, 3, 2, 4, 3, 5, 4, 7, 2])"
      ]
     },
     "execution_count": 108,
     "metadata": {},
     "output_type": "execute_result"
    }
   ],
   "source": [
    "# 확률이 가장 큰 값 - 예측한 값!\n",
    "pred_label = pred_proba.argmax(dim=1)\n",
    "pred_label"
   ]
  },
  {
   "cell_type": "code",
   "execution_count": 116,
   "metadata": {},
   "outputs": [
    {
     "data": {
      "text/plain": [
       "tensor([0.7683, 0.6367, 0.9999, 1.0000, 0.9952, 0.4413, 0.9994, 0.3365, 0.9321,\n",
       "        0.6833], grad_fn=<MaxBackward0>)"
      ]
     },
     "execution_count": 116,
     "metadata": {},
     "output_type": "execute_result"
    }
   ],
   "source": [
    "pred_label_proba = pred_proba.max(dim=-1).values\n",
    "pred_label_proba"
   ]
  },
  {
   "cell_type": "code",
   "execution_count": 119,
   "metadata": {},
   "outputs": [
    {
     "data": {
      "image/png": "[encoded data removed]",
      "text/plain": [
       "<Figure size 1000x500 with 10 Axes>"
      ]
     },
     "metadata": {},
     "output_type": "display_data"
    }
   ],
   "source": [
    "plt.figure(figsize=(10,5))\n",
    "\n",
    "for i in range(file_cnt):\n",
    "    plt.subplot(2, 5, i+1)\n",
    "    plt.imshow(input_tensor[i].to('cpu').numpy(), cmap='gray')   # .numpy() : tensor를 ndarray로 변환!\n",
    "    plt.title(f'{pred_label[i].item()} - {pred_label_proba[i].item():.2f}')\n",
    "\n",
    "plt.tight_layout()\n",
    "plt.show()"
   ]
  }
 ],
 "metadata": {
  "kernelspec": {
   "display_name": "Python 3 (ipykernel)",
   "language": "python",
   "name": "python3"
  },
  "language_info": {
   "codemirror_mode": {
    "name": "ipython",
    "version": 3
   },
   "file_extension": ".py",
   "mimetype": "text/x-python",
   "name": "python",
   "nbconvert_exporter": "python",
   "pygments_lexer": "ipython3",
   "version": "3.11.6"
  },
  "toc": {
   "base_numbering": 1,
   "nav_menu": {},
   "number_sections": false,
   "sideBar": true,
   "skip_h1_title": false,
   "title_cell": "Table of Contents",
   "title_sidebar": "Contents",
   "toc_cell": false,
   "toc_position": {},
   "toc_section_display": true,
   "toc_window_display": false
  },
  "varInspector": {
   "cols": {
    "lenName": 16,
    "lenType": 16,
    "lenVar": 40
   },
   "kernels_config": {
    "python": {
     "delete_cmd_postfix": "",
     "delete_cmd_prefix": "del ",
     "library": "var_list.py",
     "varRefreshCmd": "print(var_dic_list())"
    },
    "r": {
     "delete_cmd_postfix": ") ",
     "delete_cmd_prefix": "rm(",
     "library": "var_list.r",
     "varRefreshCmd": "cat(var_dic_list()) "
    }
   },
   "position": {
    "height": "347.844px",
    "left": "1891px",
    "right": "20px",
    "top": "361px",
    "width": "486px"
   },
   "types_to_exclude": [
    "module",
    "function",
    "builtin_function_or_method",
    "instance",
    "_Feature"
   ],
   "window_display": false
  }
 },
 "nbformat": 4,
 "nbformat_minor": 4
}
