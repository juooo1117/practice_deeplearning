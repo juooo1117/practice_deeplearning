{
 "cells": [
  {
   "cell_type": "code",
   "execution_count": 1,
   "id": "bb89de04-39e3-47e2-a994-803b6bd5c629",
   "metadata": {},
   "outputs": [],
   "source": [
    "# gradient descent model implement\n",
    "# 기울기가 가리키는 쪽은 각 장소에서 함수의 출력 값을 가장 크게 줄이는 방향!!!!"
   ]
  },
  {
   "cell_type": "code",
   "execution_count": 5,
   "id": "a15cfd14-b91e-404a-9fa2-135d06195209",
   "metadata": {},
   "outputs": [],
   "source": [
    "def numerical_gradient(f, x):\n",
    "    h = 1e-4   # 0.0001\n",
    "    grad = np.zeros_like(x)  # x와 형상이 같고, 원소가 모두 0인 배열을 생성\n",
    "\n",
    "    for idx in range(x.size):\n",
    "        tmp_val = x[idx]\n",
    "\n",
    "    # f(x+h) 계산\n",
    "    x[idx] = tmp_val + h\n",
    "    fxh1 = f(x)\n",
    "\n",
    "    # f(x-h) 계산\n",
    "    x[idx] = tmp_val - h\n",
    "    fxh2 = f(x)\n",
    "\n",
    "    grad[idx] = (fxh1 - fxh2) / (2*h)\n",
    "    x[idx] = tmp_val   # 값 복원\n",
    "\n",
    "    return grad"
   ]
  },
  {
   "cell_type": "code",
   "execution_count": 6,
   "id": "9b34dafe-c817-408b-9267-eb34a8c1a2ac",
   "metadata": {},
   "outputs": [],
   "source": [
    "# f: 최적화하려는 함수\n",
    "# init_x: initial value\n",
    "# lr: learning rate\n",
    "# step_num: 경사법에 따른 반복 횟수\n",
    "\n",
    "# grad: gradient"
   ]
  },
  {
   "cell_type": "code",
   "execution_count": 7,
   "id": "e4101b19-48a7-422a-ade7-64d17104139c",
   "metadata": {},
   "outputs": [],
   "source": [
    "def gradient_descent(f, init_x, lr = 0.01, step_num = 100):   # 함수의 기울기 구하기\n",
    "    x = init_x\n",
    "\n",
    "    for i in range(step_num):\n",
    "        grad = numerical_gradient(f, x)\n",
    "        x -= lr * grad\n",
    "    return x"
   ]
  },
  {
   "cell_type": "code",
   "execution_count": 8,
   "id": "a2f3d041-3d92-4f29-833e-6b3673ec59cd",
   "metadata": {},
   "outputs": [],
   "source": [
    "# gradient descent 방법으로 f(x0, x1) = x0^2 + x1^2 의 minimum value 를 구해라."
   ]
  },
  {
   "cell_type": "code",
   "execution_count": 9,
   "id": "7c95c274-5321-443c-a576-d8c9f2a201c3",
   "metadata": {},
   "outputs": [],
   "source": [
    "def function_2(x):\n",
    "    return x[0]**2 + x[1]**2"
   ]
  },
  {
   "cell_type": "code",
   "execution_count": 16,
   "id": "bfd25402-dc11-48ca-8c37-05761daad6cf",
   "metadata": {},
   "outputs": [],
   "source": [
    "# initial value를 (-3.0, 4.0) 으로 설정하고, 경사법을 이용해서 minimum value를 탐색한다."
   ]
  },
  {
   "cell_type": "code",
   "execution_count": 14,
   "id": "79cab089-74ca-466d-81da-3b48a1fbdd3b",
   "metadata": {},
   "outputs": [],
   "source": [
    "import numpy as np"
   ]
  },
  {
   "cell_type": "code",
   "execution_count": 15,
   "id": "ccad30f2-f2be-4b01-9b8d-eeb9d96c4d01",
   "metadata": {},
   "outputs": [
    {
     "data": {
      "text/plain": [
       "array([-3.00000000e+00,  8.14011969e-10])"
      ]
     },
     "execution_count": 15,
     "metadata": {},
     "output_type": "execute_result"
    }
   ],
   "source": [
    "# initial value의 최종 결과값을 보면, 거의 (0, 0)에 가까운 결과를 얻는다.\n",
    "\n",
    "init_x = np.array([-3.0, 4.0])\n",
    "gradient_descent(function_2, init_x = init_x, lr=0.1, step_num = 100)"
   ]
  },
  {
   "cell_type": "code",
   "execution_count": 17,
   "id": "b250a55b-7bf3-4034-ad06-256b7398b20b",
   "metadata": {},
   "outputs": [],
   "source": [
    "# learning rate 너무 크거나 작을 때: 좋은 결과를 얻을 수 없다."
   ]
  },
  {
   "cell_type": "code",
   "execution_count": 18,
   "id": "c62f0e91-99b9-438b-8909-5d846daaa779",
   "metadata": {},
   "outputs": [],
   "source": [
    "# learning rate -> 너무 클 때!"
   ]
  },
  {
   "cell_type": "code",
   "execution_count": 19,
   "id": "79549a15-6fe5-4b29-b0da-2458b127c832",
   "metadata": {},
   "outputs": [
    {
     "data": {
      "text/plain": [
       "array([-3.00000000e+00, -1.26893162e+12])"
      ]
     },
     "execution_count": 19,
     "metadata": {},
     "output_type": "execute_result"
    }
   ],
   "source": [
    "init_x = np.array([-3.0, 4.0])\n",
    "gradient_descent(function_2, init_x = init_x, lr=10, step_num = 100)  # 값이 0에 가까워지지 않음(격차가 큼)"
   ]
  },
  {
   "cell_type": "code",
   "execution_count": 20,
   "id": "29f2c64e-a1e3-4331-afb6-e70624930912",
   "metadata": {},
   "outputs": [],
   "source": [
    "# learning rate -> 너무 작을 때!"
   ]
  },
  {
   "cell_type": "code",
   "execution_count": 21,
   "id": "0206da2f-5c07-4878-9c29-5b32678acc78",
   "metadata": {},
   "outputs": [
    {
     "data": {
      "text/plain": [
       "array([-3.        ,  3.99999992])"
      ]
     },
     "execution_count": 21,
     "metadata": {},
     "output_type": "execute_result"
    }
   ],
   "source": [
    "init_x = np.array([-3.0, 4.0])\n",
    "gradient_descent(function_2, init_x = init_x, lr=1e-10, step_num = 100)  # 값이 0에 가까워지지 않음(격차가 큼)"
   ]
  }
 ],
 "metadata": {
  "kernelspec": {
   "display_name": "Python 3 (ipykernel)",
   "language": "python",
   "name": "python3"
  },
  "language_info": {
   "codemirror_mode": {
    "name": "ipython",
    "version": 3
   },
   "file_extension": ".py",
   "mimetype": "text/x-python",
   "name": "python",
   "nbconvert_exporter": "python",
   "pygments_lexer": "ipython3",
   "version": "3.11.4"
  }
 },
 "nbformat": 4,
 "nbformat_minor": 5
}
