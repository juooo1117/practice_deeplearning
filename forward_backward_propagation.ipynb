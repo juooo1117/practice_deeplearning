{
 "cells": [
  {
   "cell_type": "code",
   "execution_count": 5,
   "id": "6d26c125-9842-4369-860d-4faed3a59434",
   "metadata": {},
   "outputs": [],
   "source": [
    "# 곱셈노드와 덧셈노드를 계층단위로 구현"
   ]
  },
  {
   "cell_type": "code",
   "execution_count": 6,
   "id": "6eab4d98-372d-4628-a4a7-fb0abdf3b785",
   "metadata": {},
   "outputs": [],
   "source": [
    "# 곱셈 layer implement\n",
    "\n",
    "class MulLayer:\n",
    "    # instance variable(x,y) initiation\n",
    "    # forward propagation의 입력값을 유지하기 위해서 사용\n",
    "    def __init__(self):\n",
    "        self.x = None\n",
    "        self.y = None\n",
    "\n",
    "    # x,y를 인수로 받고 두 값을 곱해서 반환\n",
    "    def forward(self, x, y):\n",
    "        self.x = x\n",
    "        self.y = y\n",
    "        out = x * y\n",
    "\n",
    "        return out\n",
    "\n",
    "\n",
    "    def backward(self, dout):\n",
    "         # x와 y를 바꿈\n",
    "         dx = dout * self.y  \n",
    "         dy = dout * self.x\n",
    "\n",
    "         return dx, dy"
   ]
  },
  {
   "cell_type": "code",
   "execution_count": 7,
   "id": "7c78fe26-2052-4297-ba12-2337ca006a74",
   "metadata": {},
   "outputs": [],
   "source": [
    "# 덧셈 layer implement\n",
    "\n",
    "class AddLayer:\n",
    "    def __init__(self):\n",
    "        pass\n",
    "        \n",
    "    # 입력받은 두 인수(x,y)를 더해서 반환\n",
    "    def forward(self, x, y):\n",
    "        out = x + y\n",
    "        return out\n",
    "\n",
    "    # 내려온 값을 그냥 흘려보냄\n",
    "    def backward(self, dout):\n",
    "        dx = dout * 1\n",
    "        dy = dout * 1\n",
    "        return dx, dy"
   ]
  },
  {
   "cell_type": "code",
   "execution_count": 8,
   "id": "6e67f414-a317-4c9b-b634-a1a510f735db",
   "metadata": {},
   "outputs": [],
   "source": [
    "apple = 100\n",
    "apple_num = 2\n",
    "orange = 150\n",
    "orange_num = 3\n",
    "tax = 1.1"
   ]
  },
  {
   "cell_type": "code",
   "execution_count": 9,
   "id": "8e7f8930-4040-47b7-a9de-116f3527895e",
   "metadata": {},
   "outputs": [],
   "source": [
    "# layer 쌓기\n",
    "\n",
    "mul_apple_layer = MulLayer()\n",
    "mul_orange_layer = MulLayer()\n",
    "add_apple_orange_layer = AddLayer()\n",
    "mul_tax_layer = MulLayer()"
   ]
  },
  {
   "cell_type": "code",
   "execution_count": 10,
   "id": "f2236c75-232d-4cb1-835f-712d4de5c30f",
   "metadata": {},
   "outputs": [],
   "source": [
    "# forward propagation\n",
    "\n",
    "apple_price = mul_apple_layer.forward(apple, apple_num)\n",
    "orange_price = mul_orange_layer.forward(orange, orange_num)\n",
    "all_price = add_apple_orange_layer.forward(apple_price, orange_price)\n",
    "price = mul_tax_layer.forward(all_price, tax)"
   ]
  },
  {
   "cell_type": "code",
   "execution_count": 11,
   "id": "06c9a022-4821-48a4-a732-88155991c575",
   "metadata": {},
   "outputs": [],
   "source": [
    "# backward propagation\n",
    "\n",
    "dprice = 1\n",
    "dall_price, dtax = mul_tax_layer.backward(dprice)\n",
    "dapple_price, dorange_price = add_apple_orange_layer.backward(dall_price)\n",
    "dorange, dorange_num = mul_orange_layer.backward(dorange_price)\n",
    "dapple, dapple_num = mul_apple_layer.backward(dapple_price)"
   ]
  },
  {
   "cell_type": "code",
   "execution_count": 12,
   "id": "bfeb87b7-5ef8-47a1-a82d-c379ffca31b7",
   "metadata": {},
   "outputs": [
    {
     "name": "stdout",
     "output_type": "stream",
     "text": [
      "715.0000000000001\n"
     ]
    }
   ],
   "source": [
    "print(price)"
   ]
  },
  {
   "cell_type": "code",
   "execution_count": 13,
   "id": "25843b50-22d2-471a-ba83-0b7774db7b39",
   "metadata": {},
   "outputs": [
    {
     "name": "stdout",
     "output_type": "stream",
     "text": [
      "110.00000000000001 2.2 3.3000000000000003 165.0 650\n"
     ]
    }
   ],
   "source": [
    "print(dapple_num, dapple, dorange, dorange_num, dtax)"
   ]
  },
  {
   "cell_type": "code",
   "execution_count": null,
   "id": "196b89f9-a243-49bb-bc36-1e5a547a1679",
   "metadata": {},
   "outputs": [],
   "source": []
  }
 ],
 "metadata": {
  "kernelspec": {
   "display_name": "Python 3 (ipykernel)",
   "language": "python",
   "name": "python3"
  },
  "language_info": {
   "codemirror_mode": {
    "name": "ipython",
    "version": 3
   },
   "file_extension": ".py",
   "mimetype": "text/x-python",
   "name": "python",
   "nbconvert_exporter": "python",
   "pygments_lexer": "ipython3",
   "version": "3.11.4"
  }
 },
 "nbformat": 4,
 "nbformat_minor": 5
}
